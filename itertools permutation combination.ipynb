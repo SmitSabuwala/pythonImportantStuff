{
 "cells": [
  {
   "cell_type": "code",
   "execution_count": 1,
   "metadata": {},
   "outputs": [],
   "source": [
    "from itertools import permutations,combinations,combinations_with_replacement"
   ]
  },
  {
   "cell_type": "code",
   "execution_count": 2,
   "metadata": {},
   "outputs": [],
   "source": [
    "letters = ['a','b','c','a']"
   ]
  },
  {
   "cell_type": "code",
   "execution_count": 3,
   "metadata": {},
   "outputs": [],
   "source": [
    "y = list(permutations(letters))"
   ]
  },
  {
   "cell_type": "code",
   "execution_count": 4,
   "metadata": {},
   "outputs": [
    {
     "data": {
      "text/plain": [
       "24"
      ]
     },
     "execution_count": 4,
     "metadata": {},
     "output_type": "execute_result"
    }
   ],
   "source": [
    "len(y)"
   ]
  },
  {
   "cell_type": "code",
   "execution_count": 5,
   "metadata": {},
   "outputs": [
    {
     "data": {
      "text/plain": [
       "[('a', 'b', 'c', 'a'),\n",
       " ('a', 'b', 'a', 'c'),\n",
       " ('a', 'c', 'b', 'a'),\n",
       " ('a', 'c', 'a', 'b'),\n",
       " ('a', 'a', 'b', 'c'),\n",
       " ('a', 'a', 'c', 'b'),\n",
       " ('b', 'a', 'c', 'a'),\n",
       " ('b', 'a', 'a', 'c'),\n",
       " ('b', 'c', 'a', 'a'),\n",
       " ('b', 'c', 'a', 'a'),\n",
       " ('b', 'a', 'a', 'c'),\n",
       " ('b', 'a', 'c', 'a'),\n",
       " ('c', 'a', 'b', 'a'),\n",
       " ('c', 'a', 'a', 'b'),\n",
       " ('c', 'b', 'a', 'a'),\n",
       " ('c', 'b', 'a', 'a'),\n",
       " ('c', 'a', 'a', 'b'),\n",
       " ('c', 'a', 'b', 'a'),\n",
       " ('a', 'a', 'b', 'c'),\n",
       " ('a', 'a', 'c', 'b'),\n",
       " ('a', 'b', 'a', 'c'),\n",
       " ('a', 'b', 'c', 'a'),\n",
       " ('a', 'c', 'a', 'b'),\n",
       " ('a', 'c', 'b', 'a')]"
      ]
     },
     "execution_count": 5,
     "metadata": {},
     "output_type": "execute_result"
    }
   ],
   "source": [
    "y"
   ]
  },
  {
   "cell_type": "code",
   "execution_count": 6,
   "metadata": {},
   "outputs": [
    {
     "data": {
      "text/plain": [
       "24"
      ]
     },
     "execution_count": 6,
     "metadata": {},
     "output_type": "execute_result"
    }
   ],
   "source": [
    "4*3*2*1"
   ]
  },
  {
   "cell_type": "code",
   "execution_count": 7,
   "metadata": {},
   "outputs": [
    {
     "data": {
      "text/plain": [
       "[('a', 'b'),\n",
       " ('a', 'c'),\n",
       " ('a', 'a'),\n",
       " ('b', 'a'),\n",
       " ('b', 'c'),\n",
       " ('b', 'a'),\n",
       " ('c', 'a'),\n",
       " ('c', 'b'),\n",
       " ('c', 'a'),\n",
       " ('a', 'a'),\n",
       " ('a', 'b'),\n",
       " ('a', 'c')]"
      ]
     },
     "execution_count": 7,
     "metadata": {},
     "output_type": "execute_result"
    }
   ],
   "source": [
    "list(permutations(letters,2))"
   ]
  },
  {
   "cell_type": "code",
   "execution_count": 8,
   "metadata": {},
   "outputs": [
    {
     "data": {
      "text/plain": [
       "12"
      ]
     },
     "execution_count": 8,
     "metadata": {},
     "output_type": "execute_result"
    }
   ],
   "source": [
    "len(list(permutations(letters,2)))"
   ]
  },
  {
   "cell_type": "code",
   "execution_count": null,
   "metadata": {},
   "outputs": [],
   "source": []
  },
  {
   "cell_type": "code",
   "execution_count": 9,
   "metadata": {},
   "outputs": [],
   "source": [
    "#combination"
   ]
  },
  {
   "cell_type": "code",
   "execution_count": 10,
   "metadata": {},
   "outputs": [
    {
     "data": {
      "text/plain": [
       "[('a', 'b'), ('a', 'c'), ('a', 'a'), ('b', 'c'), ('b', 'a'), ('c', 'a')]"
      ]
     },
     "execution_count": 10,
     "metadata": {},
     "output_type": "execute_result"
    }
   ],
   "source": [
    "list(combinations(letters,2))"
   ]
  },
  {
   "cell_type": "code",
   "execution_count": 11,
   "metadata": {},
   "outputs": [
    {
     "data": {
      "text/plain": [
       "[('a', 'a'),\n",
       " ('a', 'b'),\n",
       " ('a', 'c'),\n",
       " ('a', 'a'),\n",
       " ('b', 'b'),\n",
       " ('b', 'c'),\n",
       " ('b', 'a'),\n",
       " ('c', 'c'),\n",
       " ('c', 'a'),\n",
       " ('a', 'a')]"
      ]
     },
     "execution_count": 11,
     "metadata": {},
     "output_type": "execute_result"
    }
   ],
   "source": [
    "list(combinations_with_replacement(letters,2))"
   ]
  },
  {
   "cell_type": "code",
   "execution_count": null,
   "metadata": {},
   "outputs": [],
   "source": []
  }
 ],
 "metadata": {
  "kernelspec": {
   "display_name": "Python 3",
   "language": "python",
   "name": "python3"
  },
  "language_info": {
   "codemirror_mode": {
    "name": "ipython",
    "version": 3
   },
   "file_extension": ".py",
   "mimetype": "text/x-python",
   "name": "python",
   "nbconvert_exporter": "python",
   "pygments_lexer": "ipython3",
   "version": "3.7.1"
  }
 },
 "nbformat": 4,
 "nbformat_minor": 2
}
