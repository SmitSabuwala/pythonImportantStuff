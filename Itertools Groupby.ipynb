{
 "cells": [
  {
   "cell_type": "code",
   "execution_count": 1,
   "metadata": {},
   "outputs": [],
   "source": [
    "from itertools import groupby\n",
    "import string\n",
    "import random"
   ]
  },
  {
   "cell_type": "code",
   "execution_count": 2,
   "metadata": {},
   "outputs": [],
   "source": [
    "x = random.choices(string.ascii_lowercase,k=20)"
   ]
  },
  {
   "cell_type": "code",
   "execution_count": 3,
   "metadata": {},
   "outputs": [
    {
     "data": {
      "text/plain": [
       "['u',\n",
       " 'c',\n",
       " 'a',\n",
       " 'a',\n",
       " 'l',\n",
       " 'f',\n",
       " 'z',\n",
       " 'j',\n",
       " 'u',\n",
       " 'u',\n",
       " 'y',\n",
       " 'h',\n",
       " 'f',\n",
       " 'f',\n",
       " 'f',\n",
       " 'c',\n",
       " 'o',\n",
       " 'w',\n",
       " 'c',\n",
       " 'k']"
      ]
     },
     "execution_count": 3,
     "metadata": {},
     "output_type": "execute_result"
    }
   ],
   "source": [
    "x"
   ]
  },
  {
   "cell_type": "code",
   "execution_count": 4,
   "metadata": {},
   "outputs": [],
   "source": [
    "x = sorted(x)"
   ]
  },
  {
   "cell_type": "code",
   "execution_count": 5,
   "metadata": {},
   "outputs": [
    {
     "data": {
      "text/plain": [
       "<itertools.groupby at 0x1a6c7471b48>"
      ]
     },
     "execution_count": 5,
     "metadata": {},
     "output_type": "execute_result"
    }
   ],
   "source": [
    "groupby(x)"
   ]
  },
  {
   "cell_type": "code",
   "execution_count": 6,
   "metadata": {},
   "outputs": [
    {
     "name": "stdout",
     "output_type": "stream",
     "text": [
      "key a  group ['a', 'a']\n",
      "key c  group ['c', 'c', 'c']\n",
      "key f  group ['f', 'f', 'f', 'f']\n",
      "key h  group ['h']\n",
      "key j  group ['j']\n",
      "key k  group ['k']\n",
      "key l  group ['l']\n",
      "key o  group ['o']\n",
      "key u  group ['u', 'u', 'u']\n",
      "key w  group ['w']\n",
      "key y  group ['y']\n",
      "key z  group ['z']\n"
     ]
    }
   ],
   "source": [
    "for key,group in (groupby(x)):\n",
    "    print('key',key,' group',list(group))"
   ]
  },
  {
   "cell_type": "code",
   "execution_count": null,
   "metadata": {},
   "outputs": [],
   "source": []
  },
  {
   "cell_type": "code",
   "execution_count": 12,
   "metadata": {},
   "outputs": [],
   "source": [
    "data = [\n",
    "    ('1212321','KAT'),\n",
    "    ('1212341','CAT'),\n",
    "    ('12122341','MAT'),\n",
    "    ('1212321','KAT'),\n",
    "    ('1212321','KAT'),\n",
    "    ('1212321','CAT'),\n",
    "    ('1212321','MAT'),\n",
    "    ('1212321','CAT')\n",
    "]"
   ]
  },
  {
   "cell_type": "code",
   "execution_count": 13,
   "metadata": {},
   "outputs": [],
   "source": [
    "data = sorted(data,key=lambda x:x[1])"
   ]
  },
  {
   "cell_type": "code",
   "execution_count": 14,
   "metadata": {},
   "outputs": [
    {
     "data": {
      "text/plain": [
       "[('1212341', 'CAT'),\n",
       " ('1212321', 'CAT'),\n",
       " ('1212321', 'CAT'),\n",
       " ('1212321', 'KAT'),\n",
       " ('1212321', 'KAT'),\n",
       " ('1212321', 'KAT'),\n",
       " ('12122341', 'MAT'),\n",
       " ('1212321', 'MAT')]"
      ]
     },
     "execution_count": 14,
     "metadata": {},
     "output_type": "execute_result"
    }
   ],
   "source": [
    "data"
   ]
  },
  {
   "cell_type": "code",
   "execution_count": 15,
   "metadata": {},
   "outputs": [
    {
     "name": "stdout",
     "output_type": "stream",
     "text": [
      "key:  CAT  groups [('1212341', 'CAT'), ('1212321', 'CAT'), ('1212321', 'CAT')]\n",
      "\n",
      "\n",
      "key:  KAT  groups [('1212321', 'KAT'), ('1212321', 'KAT'), ('1212321', 'KAT')]\n",
      "\n",
      "\n",
      "key:  MAT  groups [('12122341', 'MAT'), ('1212321', 'MAT')]\n",
      "\n",
      "\n"
     ]
    }
   ],
   "source": [
    "for key,group in (groupby(data,key = lambda x:x[1])):\n",
    "    print('key: ',key,' groups',list(group))\n",
    "    print('\\n')"
   ]
  },
  {
   "cell_type": "code",
   "execution_count": null,
   "metadata": {},
   "outputs": [],
   "source": []
  },
  {
   "cell_type": "code",
   "execution_count": 16,
   "metadata": {},
   "outputs": [],
   "source": [
    "# groupby odd and even\n",
    "\n",
    "def check_even(n):\n",
    "    if n%2 == 0:\n",
    "        return 'even'\n",
    "    else:\n",
    "        return 'odd'\n",
    "    \n",
    "def grouper(iterable):\n",
    "    iterable = sorted(iterable,key = check_even)\n",
    "    print(iterable)\n",
    "    grouped = groupby(iterable,check_even)\n",
    "    for key,group in grouped:\n",
    "        print(\"key\",key,\"group\",list(group))\n",
    "        "
   ]
  },
  {
   "cell_type": "code",
   "execution_count": 17,
   "metadata": {},
   "outputs": [],
   "source": [
    "import random\n",
    "x = random.sample(list(range(1,50)),3)"
   ]
  },
  {
   "cell_type": "code",
   "execution_count": 18,
   "metadata": {},
   "outputs": [
    {
     "data": {
      "text/plain": [
       "[35, 6, 38]"
      ]
     },
     "execution_count": 18,
     "metadata": {},
     "output_type": "execute_result"
    }
   ],
   "source": [
    "x"
   ]
  },
  {
   "cell_type": "code",
   "execution_count": 20,
   "metadata": {},
   "outputs": [
    {
     "name": "stdout",
     "output_type": "stream",
     "text": [
      "[6, 38, 35]\n",
      "key even group [6, 38]\n",
      "key odd group [35]\n"
     ]
    }
   ],
   "source": [
    "grouper(x)"
   ]
  },
  {
   "cell_type": "code",
   "execution_count": 23,
   "metadata": {},
   "outputs": [
    {
     "name": "stdout",
     "output_type": "stream",
     "text": [
      "Original List [[110, 120], [240], [330, 456, 425], [310, 220], [133], [240]]\n",
      "num  [110, 120]  group <itertools._grouper object at 0x000001A6C7C65198>\n",
      "num  [133]  group <itertools._grouper object at 0x000001A6C7C65048>\n",
      "num  [240]  group <itertools._grouper object at 0x000001A6C7C65710>\n",
      "num  [310, 220]  group <itertools._grouper object at 0x000001A6C7C650B8>\n",
      "num  [330, 456, 425]  group <itertools._grouper object at 0x000001A6C7C65208>\n"
     ]
    }
   ],
   "source": [
    "import itertools\n",
    "num = [[110, 120], [240], [330, 456, 425], [310, 220], [133], [240]]\n",
    "print(\"Original List\", num)\n",
    "num.sort()\n",
    "# new_num = list(num,group for num,group in itertools.groupby(num))\n",
    "# print(\"New List\", new_num)\n",
    "for num,group in itertools.groupby(num):\n",
    "    print(\"num \",num,\" group\",group)"
   ]
  },
  {
   "cell_type": "code",
   "execution_count": null,
   "metadata": {},
   "outputs": [],
   "source": []
  }
 ],
 "metadata": {
  "kernelspec": {
   "display_name": "Python 3",
   "language": "python",
   "name": "python3"
  },
  "language_info": {
   "codemirror_mode": {
    "name": "ipython",
    "version": 3
   },
   "file_extension": ".py",
   "mimetype": "text/x-python",
   "name": "python",
   "nbconvert_exporter": "python",
   "pygments_lexer": "ipython3",
   "version": "3.7.1"
  }
 },
 "nbformat": 4,
 "nbformat_minor": 2
}
